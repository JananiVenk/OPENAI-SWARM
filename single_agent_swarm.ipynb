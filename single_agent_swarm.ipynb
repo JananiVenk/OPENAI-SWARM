{
 "cells": [
  {
   "cell_type": "code",
   "execution_count": 1,
   "metadata": {},
   "outputs": [
    {
     "name": "stdout",
     "output_type": "stream",
     "text": [
      "Collecting git+https://github.com/openai/swarm.git\n",
      "  Cloning https://github.com/openai/swarm.git to c:\\users\\vjana\\appdata\\local\\temp\\pip-req-build-zfx1bwud\n",
      "  Resolved https://github.com/openai/swarm.git to commit 9db581cecaacea0d46a933d6453c312b034dbf47\n",
      "  Installing build dependencies: started\n",
      "  Installing build dependencies: finished with status 'done'\n",
      "  Getting requirements to build wheel: started\n",
      "  Getting requirements to build wheel: finished with status 'done'\n",
      "  Preparing metadata (pyproject.toml): started\n",
      "  Preparing metadata (pyproject.toml): finished with status 'done'\n",
      "Requirement already satisfied: numpy in c:\\users\\vjana\\anaconda3\\lib\\site-packages (from swarm==0.1.0) (1.24.0)\n",
      "Requirement already satisfied: openai>=1.33.0 in c:\\users\\vjana\\anaconda3\\lib\\site-packages (from swarm==0.1.0) (1.51.2)\n",
      "Requirement already satisfied: pytest in c:\\users\\vjana\\anaconda3\\lib\\site-packages (from swarm==0.1.0) (8.3.3)\n",
      "Requirement already satisfied: requests in c:\\users\\vjana\\anaconda3\\lib\\site-packages (from swarm==0.1.0) (2.32.3)\n",
      "Requirement already satisfied: tqdm in c:\\users\\vjana\\anaconda3\\lib\\site-packages (from swarm==0.1.0) (4.66.5)\n",
      "Collecting pre-commit (from swarm==0.1.0)\n",
      "  Obtaining dependency information for pre-commit from https://files.pythonhosted.org/packages/16/8f/496e10d51edd6671ebe0432e33ff800aa86775d2d147ce7d43389324a525/pre_commit-4.0.1-py2.py3-none-any.whl.metadata\n",
      "  Downloading pre_commit-4.0.1-py2.py3-none-any.whl.metadata (1.3 kB)\n",
      "Requirement already satisfied: instructor in c:\\users\\vjana\\anaconda3\\lib\\site-packages (from swarm==0.1.0) (1.3.3)\n",
      "Requirement already satisfied: anyio<5,>=3.5.0 in c:\\users\\vjana\\anaconda3\\lib\\site-packages (from openai>=1.33.0->swarm==0.1.0) (4.6.0)\n",
      "Requirement already satisfied: distro<2,>=1.7.0 in c:\\users\\vjana\\anaconda3\\lib\\site-packages (from openai>=1.33.0->swarm==0.1.0) (1.9.0)\n",
      "Requirement already satisfied: httpx<1,>=0.23.0 in c:\\users\\vjana\\anaconda3\\lib\\site-packages (from openai>=1.33.0->swarm==0.1.0) (0.27.2)\n",
      "Requirement already satisfied: jiter<1,>=0.4.0 in c:\\users\\vjana\\anaconda3\\lib\\site-packages (from openai>=1.33.0->swarm==0.1.0) (0.4.2)\n",
      "Requirement already satisfied: pydantic<3,>=1.9.0 in c:\\users\\vjana\\anaconda3\\lib\\site-packages (from openai>=1.33.0->swarm==0.1.0) (2.9.2)\n",
      "Requirement already satisfied: sniffio in c:\\users\\vjana\\anaconda3\\lib\\site-packages (from openai>=1.33.0->swarm==0.1.0) (1.3.1)\n",
      "Requirement already satisfied: typing-extensions<5,>=4.11 in c:\\users\\vjana\\anaconda3\\lib\\site-packages (from openai>=1.33.0->swarm==0.1.0) (4.12.2)\n",
      "Requirement already satisfied: colorama in c:\\users\\vjana\\anaconda3\\lib\\site-packages (from tqdm->swarm==0.1.0) (0.4.6)\n",
      "Requirement already satisfied: aiohttp<4.0.0,>=3.9.1 in c:\\users\\vjana\\anaconda3\\lib\\site-packages (from instructor->swarm==0.1.0) (3.10.9)\n",
      "Requirement already satisfied: docstring-parser<0.17,>=0.16 in c:\\users\\vjana\\anaconda3\\lib\\site-packages (from instructor->swarm==0.1.0) (0.16)\n",
      "Requirement already satisfied: pydantic-core<3.0.0,>=2.18.0 in c:\\users\\vjana\\anaconda3\\lib\\site-packages (from instructor->swarm==0.1.0) (2.23.4)\n",
      "Requirement already satisfied: rich<14.0.0,>=13.7.0 in c:\\users\\vjana\\anaconda3\\lib\\site-packages (from instructor->swarm==0.1.0) (13.9.2)\n",
      "Requirement already satisfied: tenacity<9.0.0,>=8.2.3 in c:\\users\\vjana\\anaconda3\\lib\\site-packages (from instructor->swarm==0.1.0) (8.5.0)\n",
      "Requirement already satisfied: typer<1.0.0,>=0.9.0 in c:\\users\\vjana\\anaconda3\\lib\\site-packages (from instructor->swarm==0.1.0) (0.12.5)\n",
      "Collecting cfgv>=2.0.0 (from pre-commit->swarm==0.1.0)\n",
      "  Obtaining dependency information for cfgv>=2.0.0 from https://files.pythonhosted.org/packages/c5/55/51844dd50c4fc7a33b653bfaba4c2456f06955289ca770a5dbd5fd267374/cfgv-3.4.0-py2.py3-none-any.whl.metadata\n",
      "  Downloading cfgv-3.4.0-py2.py3-none-any.whl.metadata (8.5 kB)\n",
      "Collecting identify>=1.0.0 (from pre-commit->swarm==0.1.0)\n",
      "  Obtaining dependency information for identify>=1.0.0 from https://files.pythonhosted.org/packages/e0/86/c4395700f3c5475424fb5c41e20c16be28d10c904aee4d005ba3217fc8e7/identify-2.6.2-py2.py3-none-any.whl.metadata\n",
      "  Downloading identify-2.6.2-py2.py3-none-any.whl.metadata (4.4 kB)\n",
      "Requirement already satisfied: nodeenv>=0.11.1 in c:\\users\\vjana\\anaconda3\\lib\\site-packages (from pre-commit->swarm==0.1.0) (1.9.1)\n",
      "Requirement already satisfied: pyyaml>=5.1 in c:\\users\\vjana\\anaconda3\\lib\\site-packages (from pre-commit->swarm==0.1.0) (6.0.2)\n",
      "Requirement already satisfied: virtualenv>=20.10.0 in c:\\users\\vjana\\anaconda3\\lib\\site-packages (from pre-commit->swarm==0.1.0) (20.26.6)\n",
      "Requirement already satisfied: iniconfig in c:\\users\\vjana\\anaconda3\\lib\\site-packages (from pytest->swarm==0.1.0) (1.1.1)\n",
      "Requirement already satisfied: packaging in c:\\users\\vjana\\anaconda3\\lib\\site-packages (from pytest->swarm==0.1.0) (23.2)\n",
      "Requirement already satisfied: pluggy<2,>=1.5 in c:\\users\\vjana\\anaconda3\\lib\\site-packages (from pytest->swarm==0.1.0) (1.5.0)\n",
      "Requirement already satisfied: charset-normalizer<4,>=2 in c:\\users\\vjana\\anaconda3\\lib\\site-packages (from requests->swarm==0.1.0) (3.3.2)\n",
      "Requirement already satisfied: idna<4,>=2.5 in c:\\users\\vjana\\anaconda3\\lib\\site-packages (from requests->swarm==0.1.0) (3.10)\n",
      "Requirement already satisfied: urllib3<3,>=1.21.1 in c:\\users\\vjana\\anaconda3\\lib\\site-packages (from requests->swarm==0.1.0) (2.2.3)\n",
      "Requirement already satisfied: certifi>=2017.4.17 in c:\\users\\vjana\\anaconda3\\lib\\site-packages (from requests->swarm==0.1.0) (2024.8.30)\n",
      "Requirement already satisfied: aiohappyeyeballs>=2.3.0 in c:\\users\\vjana\\anaconda3\\lib\\site-packages (from aiohttp<4.0.0,>=3.9.1->instructor->swarm==0.1.0) (2.4.3)\n",
      "Requirement already satisfied: aiosignal>=1.1.2 in c:\\users\\vjana\\anaconda3\\lib\\site-packages (from aiohttp<4.0.0,>=3.9.1->instructor->swarm==0.1.0) (1.3.1)\n",
      "Requirement already satisfied: attrs>=17.3.0 in c:\\users\\vjana\\anaconda3\\lib\\site-packages (from aiohttp<4.0.0,>=3.9.1->instructor->swarm==0.1.0) (23.2.0)\n",
      "Requirement already satisfied: frozenlist>=1.1.1 in c:\\users\\vjana\\anaconda3\\lib\\site-packages (from aiohttp<4.0.0,>=3.9.1->instructor->swarm==0.1.0) (1.4.1)\n",
      "Requirement already satisfied: multidict<7.0,>=4.5 in c:\\users\\vjana\\anaconda3\\lib\\site-packages (from aiohttp<4.0.0,>=3.9.1->instructor->swarm==0.1.0) (6.1.0)\n",
      "Requirement already satisfied: yarl<2.0,>=1.12.0 in c:\\users\\vjana\\anaconda3\\lib\\site-packages (from aiohttp<4.0.0,>=3.9.1->instructor->swarm==0.1.0) (1.14.0)\n",
      "Requirement already satisfied: httpcore==1.* in c:\\users\\vjana\\anaconda3\\lib\\site-packages (from httpx<1,>=0.23.0->openai>=1.33.0->swarm==0.1.0) (1.0.6)\n",
      "Requirement already satisfied: h11<0.15,>=0.13 in c:\\users\\vjana\\anaconda3\\lib\\site-packages (from httpcore==1.*->httpx<1,>=0.23.0->openai>=1.33.0->swarm==0.1.0) (0.14.0)\n",
      "Requirement already satisfied: annotated-types>=0.6.0 in c:\\users\\vjana\\anaconda3\\lib\\site-packages (from pydantic<3,>=1.9.0->openai>=1.33.0->swarm==0.1.0) (0.7.0)\n",
      "Requirement already satisfied: markdown-it-py>=2.2.0 in c:\\users\\vjana\\anaconda3\\lib\\site-packages (from rich<14.0.0,>=13.7.0->instructor->swarm==0.1.0) (3.0.0)\n",
      "Requirement already satisfied: pygments<3.0.0,>=2.13.0 in c:\\users\\vjana\\anaconda3\\lib\\site-packages (from rich<14.0.0,>=13.7.0->instructor->swarm==0.1.0) (2.18.0)\n",
      "Requirement already satisfied: click>=8.0.0 in c:\\users\\vjana\\anaconda3\\lib\\site-packages (from typer<1.0.0,>=0.9.0->instructor->swarm==0.1.0) (8.1.7)\n",
      "Requirement already satisfied: shellingham>=1.3.0 in c:\\users\\vjana\\anaconda3\\lib\\site-packages (from typer<1.0.0,>=0.9.0->instructor->swarm==0.1.0) (1.5.4)\n",
      "Requirement already satisfied: distlib<1,>=0.3.7 in c:\\users\\vjana\\anaconda3\\lib\\site-packages (from virtualenv>=20.10.0->pre-commit->swarm==0.1.0) (0.3.8)\n",
      "Requirement already satisfied: filelock<4,>=3.12.2 in c:\\users\\vjana\\anaconda3\\lib\\site-packages (from virtualenv>=20.10.0->pre-commit->swarm==0.1.0) (3.16.1)\n",
      "Requirement already satisfied: platformdirs<5,>=3.9.1 in c:\\users\\vjana\\anaconda3\\lib\\site-packages (from virtualenv>=20.10.0->pre-commit->swarm==0.1.0) (4.3.6)\n",
      "Requirement already satisfied: mdurl~=0.1 in c:\\users\\vjana\\anaconda3\\lib\\site-packages (from markdown-it-py>=2.2.0->rich<14.0.0,>=13.7.0->instructor->swarm==0.1.0) (0.1.2)\n",
      "Requirement already satisfied: propcache>=0.2.0 in c:\\users\\vjana\\anaconda3\\lib\\site-packages (from yarl<2.0,>=1.12.0->aiohttp<4.0.0,>=3.9.1->instructor->swarm==0.1.0) (0.2.0)\n",
      "Downloading pre_commit-4.0.1-py2.py3-none-any.whl (218 kB)\n",
      "   ---------------------------------------- 0.0/218.7 kB ? eta -:--:--\n",
      "   ------- -------------------------------- 41.0/218.7 kB 2.0 MB/s eta 0:00:01\n",
      "   ---------------- ----------------------- 92.2/218.7 kB 1.7 MB/s eta 0:00:01\n",
      "   ---------------------------------------- 218.7/218.7 kB 2.2 MB/s eta 0:00:00\n",
      "Downloading cfgv-3.4.0-py2.py3-none-any.whl (7.2 kB)\n",
      "Downloading identify-2.6.2-py2.py3-none-any.whl (98 kB)\n",
      "   ---------------------------------------- 0.0/99.0 kB ? eta -:--:--\n",
      "   ---------------------------------------- 99.0/99.0 kB 5.9 MB/s eta 0:00:00\n",
      "Building wheels for collected packages: swarm\n",
      "  Building wheel for swarm (pyproject.toml): started\n",
      "  Building wheel for swarm (pyproject.toml): finished with status 'done'\n",
      "  Created wheel for swarm: filename=swarm-0.1.0-py3-none-any.whl size=26243 sha256=a6aa594054e14cea9c5974de287f514b5ca1b44fe2c4cf207a25ca10bc986106\n",
      "  Stored in directory: C:\\Users\\vjana\\AppData\\Local\\Temp\\pip-ephem-wheel-cache-gaef_98g\\wheels\\47\\7e\\5a\\169b426f55cd9f5e72c56699396fb513a6b8d739a3d50bd9c6\n",
      "Successfully built swarm\n",
      "Installing collected packages: identify, cfgv, pre-commit, swarm\n",
      "Successfully installed cfgv-3.4.0 identify-2.6.2 pre-commit-4.0.1 swarm-0.1.0\n",
      "Note: you may need to restart the kernel to use updated packages.\n"
     ]
    },
    {
     "name": "stderr",
     "output_type": "stream",
     "text": [
      "  Running command git clone --filter=blob:none --quiet https://github.com/openai/swarm.git 'C:\\Users\\vjana\\AppData\\Local\\Temp\\pip-req-build-zfx1bwud'\n"
     ]
    }
   ],
   "source": [
    "pip install git+https://github.com/openai/swarm.git"
   ]
  },
  {
   "cell_type": "code",
   "execution_count": 4,
   "metadata": {},
   "outputs": [],
   "source": [
    "import os\n",
    "os.environ['OPENAI_API_KEY']=os.getenv(\"OPENAI_API_KEY\")"
   ]
  },
  {
   "cell_type": "markdown",
   "metadata": {},
   "source": [
    "#### Basic Swarm program with one agent"
   ]
  },
  {
   "cell_type": "code",
   "execution_count": 5,
   "metadata": {},
   "outputs": [
    {
     "name": "stdout",
     "output_type": "stream",
     "text": [
      "Hello! I'm here and ready to help. How can I assist you today?\n"
     ]
    }
   ],
   "source": [
    "from swarm import Swarm,Agent\n",
    "\n",
    "client=Swarm()\n",
    "agent=Agent(\n",
    "    name='Basic agent',\n",
    "    instructions='You are an helpful bot'\n",
    ")\n",
    "\n",
    "messages=[{'role':'user','content':'Hi. How are you?'}]\n",
    "response=client.run(messages=messages,agent=agent)\n",
    "print(response.messages[-1]['content'])"
   ]
  },
  {
   "cell_type": "markdown",
   "metadata": {},
   "source": [
    "#### Swarm agent with Transfer"
   ]
  },
  {
   "cell_type": "code",
   "execution_count": 6,
   "metadata": {},
   "outputs": [
    {
     "name": "stdout",
     "output_type": "stream",
     "text": [
      "Hello! I'm just a computer program, so I don't have feelings, but I'm here and ready to help you. How can I assist you today?\n"
     ]
    }
   ],
   "source": [
    "from swarm import Swarm,Agent\n",
    "\n",
    "client=Swarm()\n",
    "\n",
    "english_agent=Agent(\n",
    "    name=\"English agent\",\n",
    "    instructions=\"You speak only English\"\n",
    ")\n",
    "\n",
    "french_agent=Agent(\n",
    "    name=\"French agent\",\n",
    "    instructions=\"You speak only French.\"\n",
    ")\n",
    "\n",
    "def transfer_to_french():\n",
    "    french_agent\n",
    "\n",
    "english_agent.functions.append(transfer_to_french)\n",
    "\n",
    "messages=[{'role':'user','content':'Hi. How are you?'}]\n",
    "response=client.run(messages=messages,agent=english_agent)\n",
    "print(response.messages[-1]['content'])"
   ]
  },
  {
   "cell_type": "code",
   "execution_count": 7,
   "metadata": {},
   "outputs": [
    {
     "name": "stdout",
     "output_type": "stream",
     "text": [
      "Je suis désolé, je ne parle que l'anglais pour le moment. Comment puis-je vous aider en anglais?\n"
     ]
    }
   ],
   "source": [
    "messages=[{'role':'user','content':'Salut. comment vas-tu?'}]\n",
    "response=client.run(messages=messages,agent=english_agent)\n",
    "print(response.messages[-1]['content'])"
   ]
  },
  {
   "cell_type": "code",
   "execution_count": null,
   "metadata": {},
   "outputs": [
    {
     "name": "stdout",
     "output_type": "stream",
     "text": [
      "Hello Janani! I'm here and ready to help you with anything you need. How can I assist you today?\n"
     ]
    }
   ],
   "source": [
    "from swarm import Swarm,Agent\n",
    "client=Swarm()\n",
    "\n",
    "def instructions(context_variable):\n",
    "    name=context_variable.get('name','User')\n",
    "    return f\"You are an helpful agent. Greet the user by {name}\"\n",
    "\n",
    "\n",
    "def print_personal_details(context_variable:dict):\n",
    "    user_id=context_variable.get(\"user_id\",None)\n",
    "    name=context_variable.get(\"name\",None)\n",
    "    print(f\"User Id:{user_id} Name:{name}\")\n",
    "    return \"Success\"\n",
    "\n",
    "agent=Agent(\n",
    "    name=\"Agent\",\n",
    "    instructions=instructions,\n",
    "    functions=[print_personal_details]\n",
    ")\n",
    "\n",
    "context_variable={'user_id':1234,'name':'Janani'}\n",
    "\n",
    "messages=[{'role':'user','content':'Hi. How are you?'}]\n",
    "response=client.run(messages=messages,agent=agent,context_variables=context_variable)\n",
    "print(response.messages[-1]['content'])"
   ]
  },
  {
   "cell_type": "code",
   "execution_count": 25,
   "metadata": {},
   "outputs": [
    {
     "ename": "AttributeError",
     "evalue": "'str' object has no attribute 'get'",
     "output_type": "error",
     "traceback": [
      "\u001b[1;31m---------------------------------------------------------------------------\u001b[0m",
      "\u001b[1;31mAttributeError\u001b[0m                            Traceback (most recent call last)",
      "Cell \u001b[1;32mIn[25], line 2\u001b[0m\n\u001b[0;32m      1\u001b[0m messages\u001b[38;5;241m=\u001b[39m[{\u001b[38;5;124m'\u001b[39m\u001b[38;5;124mrole\u001b[39m\u001b[38;5;124m'\u001b[39m:\u001b[38;5;124m'\u001b[39m\u001b[38;5;124muser\u001b[39m\u001b[38;5;124m'\u001b[39m,\u001b[38;5;124m'\u001b[39m\u001b[38;5;124mcontent\u001b[39m\u001b[38;5;124m'\u001b[39m:\u001b[38;5;124m'\u001b[39m\u001b[38;5;124mPrint my personal details\u001b[39m\u001b[38;5;124m'\u001b[39m}]\n\u001b[1;32m----> 2\u001b[0m response\u001b[38;5;241m=\u001b[39m\u001b[43mclient\u001b[49m\u001b[38;5;241;43m.\u001b[39;49m\u001b[43mrun\u001b[49m\u001b[43m(\u001b[49m\u001b[43mmessages\u001b[49m\u001b[38;5;241;43m=\u001b[39;49m\u001b[43mmessages\u001b[49m\u001b[43m,\u001b[49m\u001b[43magent\u001b[49m\u001b[38;5;241;43m=\u001b[39;49m\u001b[43magent\u001b[49m\u001b[43m,\u001b[49m\u001b[43mcontext_variables\u001b[49m\u001b[38;5;241;43m=\u001b[39;49m\u001b[43mcontext_variable\u001b[49m\u001b[43m)\u001b[49m\n\u001b[0;32m      3\u001b[0m \u001b[38;5;28mprint\u001b[39m(response\u001b[38;5;241m.\u001b[39mmessages[\u001b[38;5;241m-\u001b[39m\u001b[38;5;241m1\u001b[39m][\u001b[38;5;124m'\u001b[39m\u001b[38;5;124mcontent\u001b[39m\u001b[38;5;124m'\u001b[39m])\n",
      "File \u001b[1;32mc:\\Users\\vjana\\anaconda3\\Lib\\site-packages\\swarm\\core.py:280\u001b[0m, in \u001b[0;36mSwarm.run\u001b[1;34m(self, agent, messages, context_variables, model_override, stream, debug, max_turns, execute_tools)\u001b[0m\n\u001b[0;32m    277\u001b[0m     \u001b[38;5;28;01mbreak\u001b[39;00m\n\u001b[0;32m    279\u001b[0m \u001b[38;5;66;03m# handle function calls, updating context_variables, and switching agents\u001b[39;00m\n\u001b[1;32m--> 280\u001b[0m partial_response \u001b[38;5;241m=\u001b[39m \u001b[38;5;28;43mself\u001b[39;49m\u001b[38;5;241;43m.\u001b[39;49m\u001b[43mhandle_tool_calls\u001b[49m\u001b[43m(\u001b[49m\n\u001b[0;32m    281\u001b[0m \u001b[43m    \u001b[49m\u001b[43mmessage\u001b[49m\u001b[38;5;241;43m.\u001b[39;49m\u001b[43mtool_calls\u001b[49m\u001b[43m,\u001b[49m\u001b[43m \u001b[49m\u001b[43mactive_agent\u001b[49m\u001b[38;5;241;43m.\u001b[39;49m\u001b[43mfunctions\u001b[49m\u001b[43m,\u001b[49m\u001b[43m \u001b[49m\u001b[43mcontext_variables\u001b[49m\u001b[43m,\u001b[49m\u001b[43m \u001b[49m\u001b[43mdebug\u001b[49m\n\u001b[0;32m    282\u001b[0m \u001b[43m\u001b[49m\u001b[43m)\u001b[49m\n\u001b[0;32m    283\u001b[0m history\u001b[38;5;241m.\u001b[39mextend(partial_response\u001b[38;5;241m.\u001b[39mmessages)\n\u001b[0;32m    284\u001b[0m context_variables\u001b[38;5;241m.\u001b[39mupdate(partial_response\u001b[38;5;241m.\u001b[39mcontext_variables)\n",
      "File \u001b[1;32mc:\\Users\\vjana\\anaconda3\\Lib\\site-packages\\swarm\\core.py:122\u001b[0m, in \u001b[0;36mSwarm.handle_tool_calls\u001b[1;34m(self, tool_calls, functions, context_variables, debug)\u001b[0m\n\u001b[0;32m    120\u001b[0m \u001b[38;5;28;01mif\u001b[39;00m __CTX_VARS_NAME__ \u001b[38;5;129;01min\u001b[39;00m func\u001b[38;5;241m.\u001b[39m\u001b[38;5;18m__code__\u001b[39m\u001b[38;5;241m.\u001b[39mco_varnames:\n\u001b[0;32m    121\u001b[0m     args[__CTX_VARS_NAME__] \u001b[38;5;241m=\u001b[39m context_variables\n\u001b[1;32m--> 122\u001b[0m raw_result \u001b[38;5;241m=\u001b[39m \u001b[43mfunction_map\u001b[49m\u001b[43m[\u001b[49m\u001b[43mname\u001b[49m\u001b[43m]\u001b[49m\u001b[43m(\u001b[49m\u001b[38;5;241;43m*\u001b[39;49m\u001b[38;5;241;43m*\u001b[39;49m\u001b[43margs\u001b[49m\u001b[43m)\u001b[49m\n\u001b[0;32m    124\u001b[0m result: Result \u001b[38;5;241m=\u001b[39m \u001b[38;5;28mself\u001b[39m\u001b[38;5;241m.\u001b[39mhandle_function_result(raw_result, debug)\n\u001b[0;32m    125\u001b[0m partial_response\u001b[38;5;241m.\u001b[39mmessages\u001b[38;5;241m.\u001b[39mappend(\n\u001b[0;32m    126\u001b[0m     {\n\u001b[0;32m    127\u001b[0m         \u001b[38;5;124m\"\u001b[39m\u001b[38;5;124mrole\u001b[39m\u001b[38;5;124m\"\u001b[39m: \u001b[38;5;124m\"\u001b[39m\u001b[38;5;124mtool\u001b[39m\u001b[38;5;124m\"\u001b[39m,\n\u001b[1;32m   (...)\u001b[0m\n\u001b[0;32m    131\u001b[0m     }\n\u001b[0;32m    132\u001b[0m )\n",
      "Cell \u001b[1;32mIn[24], line 10\u001b[0m, in \u001b[0;36mprint_personal_details\u001b[1;34m(context_variable)\u001b[0m\n\u001b[0;32m      9\u001b[0m \u001b[38;5;28;01mdef\u001b[39;00m \u001b[38;5;21mprint_personal_details\u001b[39m(context_variable):\n\u001b[1;32m---> 10\u001b[0m     user_id\u001b[38;5;241m=\u001b[39m\u001b[43mcontext_variable\u001b[49m\u001b[38;5;241;43m.\u001b[39;49m\u001b[43mget\u001b[49m(\u001b[38;5;124m\"\u001b[39m\u001b[38;5;124muser_id\u001b[39m\u001b[38;5;124m\"\u001b[39m,\u001b[38;5;28;01mNone\u001b[39;00m)\n\u001b[0;32m     11\u001b[0m     name\u001b[38;5;241m=\u001b[39mcontext_variable\u001b[38;5;241m.\u001b[39mget(\u001b[38;5;124m\"\u001b[39m\u001b[38;5;124mname\u001b[39m\u001b[38;5;124m\"\u001b[39m,\u001b[38;5;28;01mNone\u001b[39;00m)\n\u001b[0;32m     12\u001b[0m     \u001b[38;5;28mprint\u001b[39m(\u001b[38;5;124mf\u001b[39m\u001b[38;5;124m\"\u001b[39m\u001b[38;5;124mUser Id:\u001b[39m\u001b[38;5;132;01m{\u001b[39;00muser_id\u001b[38;5;132;01m}\u001b[39;00m\u001b[38;5;124m Name:\u001b[39m\u001b[38;5;132;01m{\u001b[39;00mname\u001b[38;5;132;01m}\u001b[39;00m\u001b[38;5;124m\"\u001b[39m)\n",
      "\u001b[1;31mAttributeError\u001b[0m: 'str' object has no attribute 'get'"
     ]
    }
   ],
   "source": [
    "messages=[{'role':'user','content':'Print my personal details'}]\n",
    "response=client.run(messages=messages,agent=agent,context_variables=context_variable)\n",
    "print(response.messages[-1]['content'])"
   ]
  },
  {
   "cell_type": "code",
   "execution_count": null,
   "metadata": {},
   "outputs": [],
   "source": []
  }
 ],
 "metadata": {
  "kernelspec": {
   "display_name": "base",
   "language": "python",
   "name": "python3"
  },
  "language_info": {
   "codemirror_mode": {
    "name": "ipython",
    "version": 3
   },
   "file_extension": ".py",
   "mimetype": "text/x-python",
   "name": "python",
   "nbconvert_exporter": "python",
   "pygments_lexer": "ipython3",
   "version": "3.11.5"
  }
 },
 "nbformat": 4,
 "nbformat_minor": 2
}
